{
 "cells": [
  {
   "cell_type": "markdown",
   "metadata": {},
   "source": [
    "# WeatherPy\n",
    "----\n",
    "\n",
    "#### Note\n",
    "* Instructions have been included for each segment. You do not have to follow them exactly, but they are included to help you think through the steps."
   ]
  },
  {
   "cell_type": "code",
   "execution_count": 1,
   "metadata": {},
   "outputs": [],
   "source": [
    "# Dependencies and Setup\n",
    "import matplotlib.pyplot as plt\n",
    "import pandas as pd\n",
    "import numpy as np\n",
    "import requests\n",
    "import time\n",
    "from scipy.stats import linregress"
   ]
  },
  {
   "cell_type": "code",
   "execution_count": 2,
   "metadata": {
    "scrolled": true
   },
   "outputs": [],
   "source": [
    "# Import API key\n",
    "from api_keys import weather_api_key\n",
    "\n",
    "# Incorporated citipy to determine city based on latitude and longitude\n",
    "from citipy import citipy\n",
    "\n",
    "# Output File (CSV)\n",
    "output_data_file = \"output_data/cities.csv\"\n",
    "\n",
    "# Range of latitudes and longitudes\n",
    "lat_range = (-90, 90)\n",
    "lng_range = (-180, 180)"
   ]
  },
  {
   "cell_type": "markdown",
   "metadata": {},
   "source": [
    "## Generate Cities List"
   ]
  },
  {
   "cell_type": "code",
   "execution_count": 3,
   "metadata": {},
   "outputs": [
    {
     "data": {
      "text/plain": [
       "630"
      ]
     },
     "execution_count": 3,
     "metadata": {},
     "output_type": "execute_result"
    }
   ],
   "source": [
    "# List for holding lat_lngs and cities\n",
    "lat_lngs = []\n",
    "cities = []\n",
    "\n",
    "# Create a set of random lat and lng combinations\n",
    "lats = np.random.uniform(lat_range[0], lat_range[1], size=1500)\n",
    "lngs = np.random.uniform(lng_range[0], lng_range[1], size=1500)\n",
    "lat_lngs = zip(lats, lngs)\n",
    "\n",
    "# Identify nearest city for each lat, lng combination\n",
    "for lat_lng in lat_lngs:\n",
    "    city = citipy.nearest_city(lat_lng[0], lat_lng[1]).city_name\n",
    "    \n",
    "    # If the city is unique, then add it to a our cities list\n",
    "    if city not in cities:\n",
    "        cities.append(city)\n",
    "\n",
    "# Print the city count to confirm sufficient count\n",
    "len(cities)"
   ]
  },
  {
   "cell_type": "markdown",
   "metadata": {},
   "source": [
    "### Perform API Calls\n",
    "* Perform a weather check on each city using a series of successive API calls.\n",
    "* Include a print log of each city as it'sbeing processed (with the city number and city name).\n"
   ]
  },
  {
   "cell_type": "code",
   "execution_count": 16,
   "metadata": {
    "scrolled": false
   },
   "outputs": [
    {
     "name": "stdout",
     "output_type": "stream",
     "text": [
      "Please wait, Data Retrieval Initiated!\n",
      "=======================================\n",
      "Processing Record 1 | Barrow\n",
      "Processing Record 2 | Great Falls\n",
      "Processing Record 3 | Narsaq\n",
      "Processing Record 4 | Atuona\n",
      "Processing Record 5 | Castro\n",
      "Processing Record 6 | Alice Springs\n",
      "Processing Record 7 | East London\n",
      "Processing Record 8 | Mar del Plata\n",
      "Processing Record 9 | Dikson\n",
      "Processing Record 10 | Hobart\n",
      "Processing Record 11 | Rikitea\n",
      "Processing Record 12 | Yellowknife\n",
      "Processing Record 13 | Cape Town\n",
      "Processing Record 14 | Aktas\n",
      "Processing Record 15 | Coyhaique\n",
      "== City not found. Skipping to next entry ==\n",
      "Processing Record 16 | Punta Arenas\n",
      "Processing Record 17 | Jamestown\n",
      "Processing Record 18 | New Norfolk\n",
      "Processing Record 19 | Thompson\n",
      "Processing Record 20 | Nikolskoye\n",
      "Processing Record 21 | Lodwar\n",
      "Processing Record 22 | Fairbanks\n",
      "Processing Record 23 | Kushiro\n",
      "Processing Record 24 | Ushuaia\n",
      "Processing Record 25 | Kon Tum\n",
      "Processing Record 26 | Tiksi\n",
      "Processing Record 27 | Hong Kong\n",
      "Processing Record 28 | La Unión\n",
      "Processing Record 29 | Hamilton\n",
      "== City not found. Skipping to next entry ==\n",
      "Processing Record 30 | Basco\n",
      "== City not found. Skipping to next entry ==\n",
      "Processing Record 31 | Lebu\n",
      "Processing Record 32 | Puerto Ayora\n",
      "Processing Record 33 | Poum\n",
      "Processing Record 34 | Busselton\n",
      "Processing Record 35 | Mehamn\n",
      "Processing Record 36 | Vaini\n",
      "Processing Record 37 | Ribeira Grande\n",
      "Processing Record 38 | Guayaramerín\n",
      "Processing Record 39 | Najrān\n",
      "Processing Record 40 | Qaqortoq\n",
      "Processing Record 41 | Sur\n",
      "Processing Record 42 | Kapaa\n",
      "Processing Record 43 | Chui\n",
      "Processing Record 44 | Vondrozo\n",
      "Processing Record 45 | Ponta do Sol\n",
      "Processing Record 46 | Kavieng\n",
      "Processing Record 47 | Ancud\n",
      "Processing Record 48 | Laguna\n",
      "== City not found. Skipping to next entry ==\n",
      "Processing Record 49 | Kaitangata\n",
      "Processing Record 50 | Oranjemund\n",
      "Processing Record 51 | Omsukchan\n",
      "Processing Record 52 | Hermanus\n",
      "Processing Record 53 | Lüderitz\n",
      "Processing Record 54 | Muncar\n",
      "Processing Record 55 | Kaeo\n",
      "Processing Record 56 | Huron\n",
      "Processing Record 57 | Puri\n",
      "Processing Record 58 | Laas\n",
      "Processing Record 59 | Valentín Gómez Farías\n",
      "Processing Record 60 | Cap-aux-Meules\n",
      "Processing Record 61 | Zunyi\n",
      "Processing Record 62 | Koutiala\n",
      "Processing Record 63 | Mahendranagar\n",
      "Processing Record 64 | Mataura\n",
      "Processing Record 65 | Aktobe\n",
      "Processing Record 66 | Ilhabela\n",
      "Processing Record 67 | Kruisfontein\n",
      "Processing Record 68 | Iskateley\n",
      "Processing Record 69 | Kidal\n",
      "== City not found. Skipping to next entry ==\n",
      "Processing Record 70 | Sobolevo\n",
      "Processing Record 71 | Opuwo\n",
      "Processing Record 72 | Greenfield\n",
      "Processing Record 73 | Awjilah\n",
      "Processing Record 74 | Ilulissat\n",
      "Processing Record 75 | Torbay\n",
      "Processing Record 76 | Bluff\n",
      "== City not found. Skipping to next entry ==\n",
      "Processing Record 77 | Maksatikha\n",
      "Processing Record 78 | Ostrovnoy\n",
      "Processing Record 79 | São Filipe\n",
      "Processing Record 80 | Port Augusta\n",
      "Processing Record 81 | Anadyr\n",
      "Processing Record 82 | Port Alfred\n",
      "Processing Record 83 | Klaksvík\n",
      "Processing Record 84 | Bethel\n",
      "Processing Record 85 | Bambous Virieux\n",
      "Processing Record 86 | Qaanaaq\n",
      "Processing Record 87 | Tuktoyaktuk\n",
      "Processing Record 88 | Zhigansk\n",
      "Processing Record 89 | Sistranda\n",
      "Processing Record 90 | São José da Coroa Grande\n",
      "Processing Record 91 | Les Trois-Bassins\n",
      "Processing Record 92 | Safi\n",
      "Processing Record 93 | Gold Coast\n",
      "Processing Record 94 | Riyadh\n",
      "== City not found. Skipping to next entry ==\n",
      "Processing Record 95 | Warud\n",
      "Processing Record 96 | Zaysan\n",
      "Processing Record 97 | Constantine\n",
      "Processing Record 98 | Joshīmath\n",
      "Processing Record 99 | Homer\n",
      "Processing Record 100 | Seddon\n",
      "Processing Record 101 | Lagoa\n",
      "Processing Record 102 | Hofn\n",
      "Processing Record 103 | Vardø\n",
      "Processing Record 104 | Cantaura\n",
      "Processing Record 105 | Avarua\n",
      "Processing Record 106 | Arraial do Cabo\n",
      "Processing Record 107 | Chokurdakh\n",
      "Processing Record 108 | Westport\n",
      "Processing Record 109 | Upernavik\n",
      "Processing Record 110 | Bengkulu\n",
      "Processing Record 111 | Lázaro Cárdenas\n",
      "Processing Record 112 | Faanui\n",
      "Processing Record 113 | Mount Isa\n",
      "Processing Record 114 | Dingle\n",
      "== City not found. Skipping to next entry ==\n",
      "Processing Record 115 | Bredasdorp\n",
      "Processing Record 116 | Provideniya\n",
      "Processing Record 117 | Hilo\n",
      "Processing Record 118 | Taoudenni\n",
      "Processing Record 119 | Padang\n",
      "Processing Record 120 | Manbij\n",
      "== City not found. Skipping to next entry ==\n",
      "Processing Record 121 | Ahipara\n",
      "Processing Record 122 | Catalão\n",
      "== City not found. Skipping to next entry ==\n",
      "== City not found. Skipping to next entry ==\n",
      "Processing Record 123 | Nālūt\n",
      "Processing Record 124 | Khatanga\n",
      "Processing Record 125 | Albany\n",
      "Processing Record 126 | Goulburn\n",
      "Processing Record 127 | Morondava\n",
      "Processing Record 128 | Tailai\n",
      "== City not found. Skipping to next entry ==\n",
      "Processing Record 129 | Caravelas\n",
      "Processing Record 130 | Port Hardy\n",
      "Processing Record 131 | Bara\n",
      "Processing Record 132 | San Patricio\n",
      "Processing Record 133 | Constitución\n",
      "Processing Record 134 | Chumphon\n",
      "Processing Record 135 | Gobabis\n",
      "Processing Record 136 | Orlik\n",
      "Processing Record 137 | Longyearbyen\n",
      "Processing Record 138 | Saint-Philippe\n",
      "Processing Record 139 | Cabo San Lucas\n",
      "== City not found. Skipping to next entry ==\n",
      "Processing Record 140 | Havøysund\n",
      "Processing Record 141 | Menongue\n",
      "Processing Record 142 | Hithadhoo\n",
      "Processing Record 143 | Palana\n",
      "== City not found. Skipping to next entry ==\n",
      "Processing Record 144 | Wattegama\n",
      "Processing Record 145 | Port Elizabeth\n",
      "== City not found. Skipping to next entry ==\n",
      "Processing Record 146 | Sungai Penuh\n",
      "== City not found. Skipping to next entry ==\n",
      "== City not found. Skipping to next entry ==\n",
      "Processing Record 147 | Boké\n",
      "Processing Record 148 | Lukovetskiy\n",
      "Processing Record 149 | Saint Paul Harbor\n",
      "Processing Record 150 | Niamey\n",
      "Processing Record 151 | Ust-Kuyga\n",
      "Processing Record 152 | Araouane\n",
      "Processing Record 153 | Atambua\n",
      "Processing Record 154 | Souillac\n",
      "Processing Record 155 | Piracanjuba\n",
      "Processing Record 156 | Cidreira\n",
      "Processing Record 157 | Vao\n",
      "== City not found. Skipping to next entry ==\n",
      "Processing Record 158 | Doha\n",
      "Processing Record 159 | Saint Anthony\n",
      "Processing Record 160 | Acajutla\n",
      "Processing Record 161 | Nanortalik\n",
      "Processing Record 162 | Celestún\n",
      "== City not found. Skipping to next entry ==\n",
      "Processing Record 163 | Mahébourg\n",
      "Processing Record 164 | San Cristobal\n",
      "Processing Record 165 | Yulara\n",
      "Processing Record 166 | Vysokogornyy\n",
      "Processing Record 167 | Geraldton\n",
      "Processing Record 168 | Kisanga\n",
      "Processing Record 169 | Saldanha\n",
      "Processing Record 170 | San Andrés\n",
      "Processing Record 171 | Tura\n",
      "Processing Record 172 | Aykhal\n",
      "Processing Record 173 | Deniliquin\n",
      "Processing Record 174 | Namatanai\n",
      "Processing Record 175 | Fortuna\n",
      "Processing Record 176 | Kazachka\n",
      "Processing Record 177 | Ushtobe\n",
      "== City not found. Skipping to next entry ==\n",
      "== City not found. Skipping to next entry ==\n",
      "Processing Record 178 | Haldībāri\n",
      "Processing Record 179 | Kiunga\n",
      "Processing Record 180 | Bonthe\n",
      "Processing Record 181 | Ambon City\n",
      "Processing Record 182 | Gamboma\n",
      "Processing Record 183 | Saint George\n",
      "Processing Record 184 | Ampanihy\n",
      "Processing Record 185 | Saint-Augustin\n",
      "Processing Record 186 | Bahía Honda\n",
      "Processing Record 187 | Vila Velha\n",
      "Processing Record 188 | Māngrol\n",
      "Processing Record 189 | Tasiilaq\n",
      "Processing Record 190 | Hasaki\n",
      "Processing Record 191 | Jizan\n",
      "Processing Record 192 | Iqaluit\n",
      "Processing Record 193 | Tommot\n",
      "== City not found. Skipping to next entry ==\n",
      "Processing Record 194 | Cayenne\n",
      "Processing Record 195 | Berlevåg\n",
      "Processing Record 196 | Ixtapa\n",
      "Processing Record 197 | Samaná\n",
      "Processing Record 198 | Lata\n",
      "Processing Record 199 | Guerrero Negro\n",
      "Processing Record 200 | Severo-Kuril'sk\n",
      "Processing Record 201 | Quang Ngai\n",
      "Processing Record 202 | George Town\n",
      "Processing Record 203 | Te Anau\n",
      "Processing Record 204 | Saint-Joseph\n",
      "Processing Record 205 | Egvekinot\n",
      "Processing Record 206 | Ouésso\n",
      "== City not found. Skipping to next entry ==\n",
      "Processing Record 207 | Gao\n",
      "Processing Record 208 | Lorengau\n",
      "Processing Record 209 | Buin\n",
      "Processing Record 210 | Vanavara\n",
      "Processing Record 211 | Esperance\n",
      "Processing Record 212 | Half Moon Bay\n",
      "Processing Record 213 | Mocorito\n",
      "Processing Record 214 | Sabana de Torres\n",
      "Processing Record 215 | Portland\n",
      "Processing Record 216 | Plouzané\n"
     ]
    },
    {
     "name": "stdout",
     "output_type": "stream",
     "text": [
      "Processing Record 217 | Mapiripán\n",
      "Processing Record 218 | Bantou\n",
      "Processing Record 219 | Buchanan\n",
      "Processing Record 220 | Ormara\n",
      "Processing Record 221 | Zletovo\n",
      "Processing Record 222 | Carnarvon\n",
      "Processing Record 223 | Ossora\n",
      "Processing Record 224 | Lachi\n",
      "Processing Record 225 | Roald\n",
      "Processing Record 226 | Porbandar\n",
      "Processing Record 227 | Klyuchi\n",
      "Processing Record 228 | Rind\n",
      "Processing Record 229 | Fort Nelson\n",
      "Processing Record 230 | Grand-Santi\n",
      "Processing Record 231 | Mildura\n",
      "Processing Record 232 | Saskylakh\n",
      "Processing Record 233 | Osypenko\n",
      "Processing Record 234 | Ust-Nera\n",
      "Processing Record 235 | Purpe\n",
      "Processing Record 236 | Flinders\n",
      "Processing Record 237 | Chaman\n",
      "Processing Record 238 | Buraidah\n",
      "Processing Record 239 | Guadalupe y Calvo\n",
      "Processing Record 240 | Sabang\n",
      "Processing Record 241 | Darovskoy\n",
      "Processing Record 242 | Derzhavīnsk\n",
      "Processing Record 243 | Guider\n",
      "Processing Record 244 | Buritis\n",
      "Processing Record 245 | Imbituba\n",
      "Processing Record 246 | Shingū\n",
      "Processing Record 247 | Den Helder\n",
      "Processing Record 248 | Saint-Leu\n",
      "Processing Record 249 | Itarema\n",
      "Processing Record 250 | Cedar Rapids\n",
      "Processing Record 251 | Nyzhnya Duvanka\n",
      "Processing Record 252 | Marawi\n",
      "Processing Record 253 | Svirsk\n",
      "Processing Record 254 | Utete\n",
      "Processing Record 255 | Bilibino\n",
      "Processing Record 256 | Mulegé\n",
      "== City not found. Skipping to next entry ==\n",
      "Processing Record 257 | Russell\n",
      "Processing Record 258 | Sept-Îles\n",
      "Processing Record 259 | El Vendrell\n",
      "Processing Record 260 | Uribia\n",
      "== City not found. Skipping to next entry ==\n",
      "Processing Record 261 | College\n",
      "Processing Record 262 | Ambilobe\n",
      "Processing Record 263 | Salalah\n",
      "Processing Record 264 | Wewak\n",
      "Processing Record 265 | Cherskiy\n",
      "Processing Record 266 | Gornozavodsk\n",
      "Processing Record 267 | Marsaxlokk\n",
      "Processing Record 268 | Mana\n",
      "Processing Record 269 | Dalbandin\n",
      "Processing Record 270 | Merauke\n",
      "Processing Record 271 | Mareeba\n",
      "Processing Record 272 | Esmeraldas\n",
      "Processing Record 273 | Noyabrsk\n",
      "Processing Record 274 | Lompoc\n",
      "Processing Record 275 | Pisco\n",
      "Processing Record 276 | Caniço\n",
      "Processing Record 277 | Naze\n",
      "Processing Record 278 | Adré\n",
      "== City not found. Skipping to next entry ==\n",
      "Processing Record 279 | Calvinia\n",
      "Processing Record 280 | Gillette\n",
      "Processing Record 281 | Babanka\n",
      "Processing Record 282 | Champotón\n",
      "Processing Record 283 | Port Macquarie\n",
      "Processing Record 284 | Chimbarongo\n",
      "Processing Record 285 | High Level\n",
      "Processing Record 286 | Petropavlovsk-Kamchatskiy\n",
      "Processing Record 287 | Madison Heights\n",
      "Processing Record 288 | Stawell\n",
      "Processing Record 289 | Kununurra\n",
      "Processing Record 290 | Udachny\n",
      "== City not found. Skipping to next entry ==\n",
      "Processing Record 291 | Tevaitoa\n",
      "Processing Record 292 | Isla Mujeres\n",
      "== City not found. Skipping to next entry ==\n",
      "== City not found. Skipping to next entry ==\n",
      "Processing Record 293 | Vanimo\n",
      "Processing Record 294 | Rio Grande\n",
      "Processing Record 295 | Evensk\n",
      "Processing Record 296 | Rodrigues Alves\n",
      "Processing Record 297 | Vila Franca do Campo\n",
      "Processing Record 298 | Katete\n",
      "Processing Record 299 | Katsuura\n",
      "Processing Record 300 | Kuznechnoye\n",
      "Processing Record 301 | Ibotirama\n",
      "Processing Record 302 | Kampene\n",
      "Processing Record 303 | Panan\n",
      "Processing Record 304 | St. George's\n",
      "Processing Record 305 | Owando\n",
      "Processing Record 306 | Grafton\n",
      "Processing Record 307 | Adrar\n",
      "Processing Record 308 | Khor\n",
      "Processing Record 309 | Codrington\n",
      "Processing Record 310 | Oneonta\n",
      "Processing Record 311 | Port-Gentil\n",
      "== City not found. Skipping to next entry ==\n",
      "Processing Record 312 | Marrakesh\n",
      "Processing Record 313 | Mozarlândia\n",
      "Processing Record 314 | Aswān\n",
      "Processing Record 315 | Limbang\n",
      "Processing Record 316 | Kotido\n",
      "Processing Record 317 | Butaritari\n",
      "Processing Record 318 | Dalvik\n",
      "Processing Record 319 | Port Hope\n",
      "Processing Record 320 | Zapolyarnyy\n",
      "Processing Record 321 | Sitka\n",
      "Processing Record 322 | Baghdad\n",
      "Processing Record 323 | Zyryanka\n",
      "Processing Record 324 | Burē\n",
      "Processing Record 325 | Krasnosel'kup\n",
      "Processing Record 326 | Tautira\n",
      "Processing Record 327 | Nara\n",
      "Processing Record 328 | Okhotsk\n",
      "Processing Record 329 | Thunder Bay\n",
      "Processing Record 330 | Faya\n",
      "Processing Record 331 | Waipawa\n",
      "Processing Record 332 | Inhambane\n",
      "Processing Record 333 | Darhan\n",
      "Processing Record 334 | Kerman\n",
      "Processing Record 335 | Olden\n",
      "Processing Record 336 | Hazorasp\n",
      "Processing Record 337 | Tiarei\n",
      "Processing Record 338 | Xining\n",
      "Processing Record 339 | Dandong\n",
      "Processing Record 340 | Takoradze\n",
      "Processing Record 341 | Santa Vitória do Palmar\n",
      "Processing Record 342 | Necochea\n",
      "Processing Record 343 | Rocha\n",
      "Processing Record 344 | Coração de Maria\n",
      "Processing Record 345 | Shimoda\n",
      "Processing Record 346 | Comodoro Rivadavia\n",
      "Processing Record 347 | Ous\n",
      "Processing Record 348 | Bairiki Village\n",
      "Processing Record 349 | Port Lincoln\n",
      "Processing Record 350 | La Asuncion\n",
      "== City not found. Skipping to next entry ==\n",
      "Processing Record 351 | Uyemskiy\n",
      "== City not found. Skipping to next entry ==\n",
      "Processing Record 352 | Glamoč\n",
      "Processing Record 353 | Port Blair\n",
      "Processing Record 354 | Hornepayne\n",
      "Processing Record 355 | Mawlaik\n",
      "Processing Record 356 | Airai\n",
      "Processing Record 357 | Lyaskelya\n",
      "Processing Record 358 | Champerico\n",
      "Processing Record 359 | Koungou\n",
      "Processing Record 360 | Saiha\n",
      "Processing Record 361 | Uvalde\n",
      "Processing Record 362 | Środa Wielkopolska\n",
      "Processing Record 363 | Turan\n",
      "Processing Record 364 | Yaan\n",
      "Processing Record 365 | Dauphin\n",
      "Processing Record 366 | Tabuk\n",
      "Processing Record 367 | Zlobin\n",
      "Processing Record 368 | Mossamedes\n",
      "Processing Record 369 | Samarai\n",
      "Processing Record 370 | Mahon\n",
      "Processing Record 371 | Black River\n",
      "Processing Record 372 | Kumluca\n",
      "Processing Record 373 | Lerwick\n",
      "== City not found. Skipping to next entry ==\n",
      "Processing Record 374 | Kinna\n",
      "Processing Record 375 | Gazojak\n",
      "Processing Record 376 | Nemuro\n",
      "Processing Record 377 | Solnechnyy\n",
      "Processing Record 378 | Machalí\n",
      "Processing Record 379 | Kurmanayevka\n",
      "Processing Record 380 | Zhaotong\n",
      "Processing Record 381 | Nhulunbuy\n",
      "Processing Record 382 | Nome\n",
      "Processing Record 383 | Jalu\n",
      "Processing Record 384 | Porto-Novo\n",
      "Processing Record 385 | Coquimbo\n",
      "Processing Record 386 | Pontianak\n",
      "Processing Record 387 | Oddur\n",
      "== City not found. Skipping to next entry ==\n",
      "Processing Record 388 | Guangzhou\n",
      "Processing Record 389 | Vincennes\n",
      "Processing Record 390 | Porto Walter\n",
      "Processing Record 391 | Honiara\n",
      "Processing Record 392 | Vestmanna\n",
      "Processing Record 393 | Mapastepec\n",
      "Processing Record 394 | Lavrentiya\n",
      "Processing Record 395 | Mgandu\n",
      "Processing Record 396 | Aklavik\n",
      "Processing Record 397 | Arandis\n",
      "Processing Record 398 | Pemba\n",
      "== City not found. Skipping to next entry ==\n",
      "Processing Record 399 | Olafsvik\n",
      "Processing Record 400 | Aksarka\n",
      "Processing Record 401 | Jiangkou\n",
      "Processing Record 402 | Hunchun\n",
      "Processing Record 403 | Departamento de Maldonado\n",
      "Processing Record 404 | Alyangula\n",
      "Processing Record 405 | Santa Cruz de Barahona\n",
      "Processing Record 406 | Vestmannaeyjar\n",
      "Processing Record 407 | Tayoltita\n",
      "Processing Record 408 | Kibala\n",
      "Processing Record 409 | Belyy Yar\n",
      "Processing Record 410 | Bāfq\n",
      "Processing Record 411 | Manggar\n",
      "Processing Record 412 | Laichow\n",
      "Processing Record 413 | Kiama\n",
      "Processing Record 414 | Stillwater\n",
      "Processing Record 415 | Huntsville\n",
      "Processing Record 416 | Anantapur\n",
      "Processing Record 417 | Talcahuano\n",
      "Processing Record 418 | Murgab\n",
      "Processing Record 419 | Manicoré\n",
      "Processing Record 420 | Saint Simons\n",
      "Processing Record 421 | Pimenta Bueno\n",
      "Processing Record 422 | Tezu\n",
      "Processing Record 423 | Vigrestad\n",
      "Processing Record 424 | Sweetwater\n",
      "Processing Record 425 | Union\n",
      "Processing Record 426 | Antsohihy\n",
      "Processing Record 427 | Talara\n",
      "Processing Record 428 | Cockburn Town\n",
      "Processing Record 429 | Jijiga\n",
      "Processing Record 430 | Muravlenko\n",
      "Processing Record 431 | Pevek\n",
      "Processing Record 432 | Aragarças\n",
      "Processing Record 433 | Pozo Colorado\n",
      "Processing Record 434 | Richards Bay\n",
      "Processing Record 435 | Iquique\n",
      "Processing Record 436 | Ilesha\n",
      "Processing Record 437 | Andenes\n",
      "Processing Record 438 | Chimoré\n",
      "Processing Record 439 | Lithgow\n",
      "Processing Record 440 | Sinop Province\n",
      "Processing Record 441 | Bongandanga\n",
      "== City not found. Skipping to next entry ==\n",
      "Processing Record 442 | La Ronge\n",
      "Processing Record 443 | Norman Wells\n",
      "Processing Record 444 | Suntar\n"
     ]
    },
    {
     "name": "stdout",
     "output_type": "stream",
     "text": [
      "Processing Record 445 | Charters Towers\n",
      "Processing Record 446 | Port Moresby\n",
      "Processing Record 447 | Zanesville\n",
      "Processing Record 448 | Yeppoon\n",
      "Processing Record 449 | Nikolayevsk-on-Amur\n",
      "Processing Record 450 | Mnogovershinnyy\n",
      "Processing Record 451 | Pangoa\n",
      "Processing Record 452 | Minas\n",
      "Processing Record 453 | Port Hedland\n",
      "Processing Record 454 | Yermakovskoye\n",
      "Processing Record 455 | Hirara\n",
      "Processing Record 456 | Roebourne\n",
      "Processing Record 457 | Lensk\n",
      "Processing Record 458 | Tateyama\n",
      "Processing Record 459 | Kamenka\n",
      "Processing Record 460 | Makkah al Mukarramah\n",
      "Processing Record 461 | Tyret’ Pervaya\n",
      "Processing Record 462 | Bathsheba\n",
      "Processing Record 463 | Prince Rupert\n",
      "Processing Record 464 | Tuatapere\n",
      "Processing Record 465 | La Providencia\n",
      "Processing Record 466 | Ecoporanga\n",
      "Processing Record 467 | Río Gallegos\n",
      "Processing Record 468 | Brae\n",
      "== City not found. Skipping to next entry ==\n",
      "Processing Record 469 | Oyama\n",
      "Processing Record 470 | Lerici\n",
      "Processing Record 471 | Kashgar\n",
      "Processing Record 472 | Ninh Binh\n",
      "Processing Record 473 | Guaraniaçu\n",
      "Processing Record 474 | Aquin\n",
      "Processing Record 475 | Somova\n",
      "Processing Record 476 | Sabha\n",
      "Processing Record 477 | Hervey Bay\n",
      "Processing Record 478 | Biak\n",
      "Processing Record 479 | Clyde River\n",
      "Processing Record 480 | Conde\n",
      "Processing Record 481 | Barra de Tecoanapa\n",
      "Processing Record 482 | Weyburn\n",
      "Processing Record 483 | Husavik\n",
      "Processing Record 484 | Igrim\n",
      "Processing Record 485 | Głowno\n",
      "Processing Record 486 | Phan Thiet\n",
      "== City not found. Skipping to next entry ==\n",
      "Processing Record 487 | Palmeira\n",
      "Processing Record 488 | Rosário do Sul\n",
      "Processing Record 489 | Kurumkan\n",
      "Processing Record 490 | Baykit\n",
      "Processing Record 491 | Qinhuangdao\n",
      "Processing Record 492 | Morros\n",
      "Processing Record 493 | Bitung\n",
      "Processing Record 494 | Sugar Hill\n",
      "Processing Record 495 | Turukhansk\n",
      "Processing Record 496 | Libreville\n",
      "Processing Record 497 | Port Keats\n",
      "Processing Record 498 | Köping\n",
      "Processing Record 499 | Ségou\n",
      "Processing Record 500 | Kawalu\n",
      "Processing Record 501 | Jonesboro\n",
      "Processing Record 502 | Gouré\n",
      "Processing Record 503 | Mandan\n",
      "== City not found. Skipping to next entry ==\n",
      "Processing Record 504 | Ürümqi\n",
      "Processing Record 505 | Preobrazheniye\n",
      "== City not found. Skipping to next entry ==\n",
      "Processing Record 506 | Yar-Sale\n",
      "Processing Record 507 | Makakilo City\n",
      "Processing Record 508 | Broken Hill\n",
      "Processing Record 509 | Fuyang\n",
      "Processing Record 510 | Burnie\n",
      "Processing Record 511 | Dakar\n",
      "Processing Record 512 | Caronport\n",
      "Processing Record 513 | Svecha\n",
      "Processing Record 514 | Chernushka\n",
      "Processing Record 515 | Multan\n",
      "Processing Record 516 | São Gabriel da Cachoeira\n",
      "== City not found. Skipping to next entry ==\n",
      "Processing Record 517 | Potsdam\n",
      "Processing Record 518 | Haines Junction\n",
      "Processing Record 519 | Terrace Bay\n",
      "Processing Record 520 | Buta\n",
      "Processing Record 521 | Broome\n",
      "Processing Record 522 | Dicabisagan\n",
      "== City not found. Skipping to next entry ==\n",
      "Processing Record 523 | Marquette\n",
      "== City not found. Skipping to next entry ==\n",
      "Processing Record 524 | Filingué\n",
      "Processing Record 525 | Wasilla\n",
      "Processing Record 526 | Makat\n",
      "== City not found. Skipping to next entry ==\n",
      "Processing Record 527 | Katobu\n",
      "Processing Record 528 | Hualmay\n",
      "Processing Record 529 | Port Shepstone\n",
      "Processing Record 530 | Talnakh\n",
      "== City not found. Skipping to next entry ==\n",
      "Processing Record 531 | Chongoyape\n",
      "Processing Record 532 | Salina\n",
      "Processing Record 533 | San Quintín\n",
      "Processing Record 534 | Eyl\n",
      "Processing Record 535 | Acarí\n",
      "Processing Record 536 | Isangel\n",
      "== City not found. Skipping to next entry ==\n",
      "Processing Record 537 | Muros\n",
      "Processing Record 538 | Yangi Marg`ilon\n",
      "Processing Record 539 | Salinópolis\n",
      "Processing Record 540 | Igarka\n",
      "Processing Record 541 | Nagorsk\n",
      "Processing Record 542 | Mattru\n",
      "== City not found. Skipping to next entry ==\n",
      "Processing Record 543 | Mocuba\n",
      "Processing Record 544 | Damortis\n",
      "Processing Record 545 | Banff\n",
      "Processing Record 546 | Jijiang\n",
      "Processing Record 547 | Asău\n",
      "Processing Record 548 | Jishou\n",
      "Processing Record 549 | Yabēlo\n",
      "Processing Record 550 | Martapura\n",
      "Processing Record 551 | Ballina\n",
      "Processing Record 552 | Atherton\n",
      "Processing Record 553 | Arrondissement d'Ajaccio\n",
      "Processing Record 554 | Dali\n",
      "Processing Record 555 | Banda Aceh\n",
      "Processing Record 556 | Labuhan\n",
      "Processing Record 557 | Anzio\n",
      "Processing Record 558 | Nísia Floresta\n",
      "Processing Record 559 | Avera\n",
      "Processing Record 560 | São João da Barra\n",
      "Processing Record 561 | Leningradskiy\n",
      "Processing Record 562 | Chlórakas\n",
      "Processing Record 563 | Praia\n",
      "Processing Record 564 | Sterling\n",
      "Processing Record 565 | Srednekolymsk\n",
      "Processing Record 566 | Markova\n",
      "Processing Record 567 | Canmore\n",
      "Processing Record 568 | Tiznit Province\n",
      "Processing Record 569 | Kuching\n",
      "Processing Record 570 | Koumra\n",
      "Processing Record 571 | Nevel'\n",
      "Processing Record 572 | Yibin\n",
      "Processing Record 573 | Byron Bay\n",
      "Processing Record 574 | Sulangan\n",
      "Processing Record 575 | Novikovo\n",
      "Processing Record 576 | Poronaysk\n",
      "Processing Record 577 | Havelock\n",
      "Processing Record 578 | Launceston\n",
      "Processing Record 579 | Muisne\n",
      "Processing Record 580 | Santiago del Estero\n",
      "Processing Record 581 | Xianshuigu\n",
      "Processing Record 582 | Los Llanos de Aridane\n",
      "== City not found. Skipping to next entry ==\n"
     ]
    }
   ],
   "source": [
    "# Setting URL for the API call\n",
    "url = \"http://api.openweathermap.org/data/2.5/weather?\"\n",
    "# Build query URL\n",
    "query_url = url + \"appid=\" + weather_api_key + \"&q=\"\n",
    "\n",
    "##  Quick Ref regarding exercise parameters here:\n",
    "#  Your objective is to build a series of scatter plots to showcase the following relationships:\n",
    "#     Temperature (F) vs. Latitude\n",
    "#     Humidity (%) vs. Latitude\n",
    "#     Cloudiness (%) vs. Latitude\n",
    "#     Wind Speed (mph) vs. Latitude\n",
    "\n",
    "#  Creating empty lists to hold our retrieved data from the API.  Also including lists for data,\n",
    "#  latitude, longitude, and country based on example provided.\n",
    "\n",
    "high_temp = []\n",
    "humidity = []\n",
    "cloudiness = []\n",
    "wind_speed = []\n",
    "city_name = []\n",
    "date = []\n",
    "country = []\n",
    "lat = []\n",
    "lng = []\n",
    "\n",
    "#  Utilize a For Loop with the new 'try' and 'except' method / parameter Hobert mentioned last class\n",
    "#  Exercise specified to provide a log of each city and it's retrieval number, need to implement \n",
    "#  a counter as part of the For loop below.\n",
    "\n",
    "record = 1\n",
    "\n",
    "#  Make the log file user friendly with descriptive statements\n",
    "print(f\"Please wait, Data Retrieval Initiated!\")\n",
    "print(f\"=======================================\")\n",
    "\n",
    "#  Our loop begins.  Exercise utilized the random function from the Numpy module to select random \n",
    "#  latitudes & longitudes, and then utilized Citipy's nearest city function to build our city list.\n",
    "#  So now we'll loop through our new randomized city list to pull data from the OpenWeather API.\n",
    "\n",
    "for city in cities:  \n",
    "    \n",
    "    try: \n",
    "        \n",
    "        # Primary Data Retrieval\n",
    "        #response = requests.get(f\"{url}&q={city}\").json() \n",
    "        response = requests.get(f\"{query_url}{city}\").json()\n",
    "                \n",
    "        # add to city\n",
    "        city_name.append(response[\"name\"])\n",
    "        # add to cloudiness\n",
    "        cloudiness.append(response[\"clouds\"][\"all\"])\n",
    "        # add to country\n",
    "        country.append(response[\"sys\"][\"country\"])\n",
    "        # add to date\n",
    "        date.append(response[\"dt\"])\n",
    "        # add to humidity\n",
    "        humidity.append(response[\"main\"][\"humidity\"])\n",
    "        # add to max temp\n",
    "        high_temp.append(response[\"main\"][\"temp_max\"])\n",
    "        # add to latitude\n",
    "        lat.append(response[\"coord\"][\"lat\"])\n",
    "        # add to longitude\n",
    "        lng.append(response[\"coord\"][\"lon\"])\n",
    "        # add to windspeed\n",
    "        wind_speed.append(response[\"wind\"][\"speed\"])\n",
    "        \n",
    "        #  UX feedback regarding what's currently happening in our loop.  \n",
    "        record_city_id = response[\"name\"]\n",
    "        print(f\"Processing Record {record} | {record_city_id}\")\n",
    "            \n",
    "        # Increase counter by one \n",
    "        record = record + 1\n",
    "        \n",
    "        # API key was revoked due to my troubleshooting testing (or just bad initial code),\n",
    "        # using this sleep method to avoid pulling more than 60 queries a minute (I inlcluded\n",
    "        # a extra half-second as margin of error)\n",
    "        time.sleep(1.5)\n",
    "        \n",
    "    # If no record found \"skip\" to next call\n",
    "    except:\n",
    "        print(\"== City not found. Skipping to next entry ==\")\n",
    "    continue\n",
    "# query_url"
   ]
  },
  {
   "cell_type": "code",
   "execution_count": null,
   "metadata": {},
   "outputs": [],
   "source": []
  },
  {
   "cell_type": "markdown",
   "metadata": {},
   "source": [
    "### Convert Raw Data to DataFrame\n",
    "* Export the city data into a .csv.\n",
    "* Display the DataFrame"
   ]
  },
  {
   "cell_type": "code",
   "execution_count": 19,
   "metadata": {},
   "outputs": [
    {
     "data": {
      "text/plain": [
       "City          582\n",
       "Lat           582\n",
       "lng           582\n",
       "Max Temp      582\n",
       "Humidity      582\n",
       "Cloudiness    582\n",
       "Wind Speed    582\n",
       "Country       582\n",
       "Date          582\n",
       "dtype: int64"
      ]
     },
     "execution_count": 19,
     "metadata": {},
     "output_type": "execute_result"
    }
   ],
   "source": [
    "#  Taking our various lists and converting them into a dictionary with Key-Value Pairs, which form\n",
    "#  our column name and data series moving forward.\n",
    "\n",
    "consolidated_weather_data = {\"City\": city_name,\n",
    "                             \"Lat\": lat,\n",
    "                             \"lng\": lng,\n",
    "                             \"Max Temp\": high_temp,\n",
    "                             \"Humidity\": humidity,\n",
    "                             \"Cloudiness\": cloudiness,\n",
    "                             \"Wind Speed\": wind_speed,\n",
    "                             \"Country\": country,\n",
    "                             \"Date\": date\n",
    "}\n",
    "\n",
    "consolidated_weather_df = pd.DataFrame(consolidated_weather_data)\n",
    "consolidated_weather_df.count()"
   ]
  },
  {
   "cell_type": "code",
   "execution_count": 21,
   "metadata": {},
   "outputs": [],
   "source": [
    "consolidated_weather_df.to_csv(\"Export_data/consolidated_weather_data.csv\")"
   ]
  },
  {
   "cell_type": "code",
   "execution_count": 22,
   "metadata": {},
   "outputs": [
    {
     "data": {
      "text/html": [
       "<div>\n",
       "<style scoped>\n",
       "    .dataframe tbody tr th:only-of-type {\n",
       "        vertical-align: middle;\n",
       "    }\n",
       "\n",
       "    .dataframe tbody tr th {\n",
       "        vertical-align: top;\n",
       "    }\n",
       "\n",
       "    .dataframe thead th {\n",
       "        text-align: right;\n",
       "    }\n",
       "</style>\n",
       "<table border=\"1\" class=\"dataframe\">\n",
       "  <thead>\n",
       "    <tr style=\"text-align: right;\">\n",
       "      <th></th>\n",
       "      <th>City</th>\n",
       "      <th>Lat</th>\n",
       "      <th>lng</th>\n",
       "      <th>Max Temp</th>\n",
       "      <th>Humidity</th>\n",
       "      <th>Cloudiness</th>\n",
       "      <th>Wind Speed</th>\n",
       "      <th>Country</th>\n",
       "      <th>Date</th>\n",
       "    </tr>\n",
       "  </thead>\n",
       "  <tbody>\n",
       "    <tr>\n",
       "      <th>0</th>\n",
       "      <td>Barrow</td>\n",
       "      <td>71.2906</td>\n",
       "      <td>-156.7887</td>\n",
       "      <td>255.15</td>\n",
       "      <td>71</td>\n",
       "      <td>90</td>\n",
       "      <td>4.63</td>\n",
       "      <td>US</td>\n",
       "      <td>1612631204</td>\n",
       "    </tr>\n",
       "    <tr>\n",
       "      <th>1</th>\n",
       "      <td>Great Falls</td>\n",
       "      <td>47.5002</td>\n",
       "      <td>-111.3008</td>\n",
       "      <td>255.37</td>\n",
       "      <td>78</td>\n",
       "      <td>90</td>\n",
       "      <td>5.14</td>\n",
       "      <td>US</td>\n",
       "      <td>1612631124</td>\n",
       "    </tr>\n",
       "    <tr>\n",
       "      <th>2</th>\n",
       "      <td>Narsaq</td>\n",
       "      <td>60.9167</td>\n",
       "      <td>-46.0500</td>\n",
       "      <td>274.15</td>\n",
       "      <td>25</td>\n",
       "      <td>1</td>\n",
       "      <td>10.80</td>\n",
       "      <td>GL</td>\n",
       "      <td>1612631063</td>\n",
       "    </tr>\n",
       "    <tr>\n",
       "      <th>3</th>\n",
       "      <td>Atuona</td>\n",
       "      <td>-9.8000</td>\n",
       "      <td>-139.0333</td>\n",
       "      <td>299.91</td>\n",
       "      <td>77</td>\n",
       "      <td>57</td>\n",
       "      <td>10.02</td>\n",
       "      <td>PF</td>\n",
       "      <td>1612631209</td>\n",
       "    </tr>\n",
       "    <tr>\n",
       "      <th>4</th>\n",
       "      <td>Castro</td>\n",
       "      <td>-24.7911</td>\n",
       "      <td>-50.0119</td>\n",
       "      <td>297.74</td>\n",
       "      <td>50</td>\n",
       "      <td>0</td>\n",
       "      <td>3.33</td>\n",
       "      <td>BR</td>\n",
       "      <td>1612631210</td>\n",
       "    </tr>\n",
       "  </tbody>\n",
       "</table>\n",
       "</div>"
      ],
      "text/plain": [
       "          City      Lat       lng  Max Temp  Humidity  Cloudiness  Wind Speed  \\\n",
       "0       Barrow  71.2906 -156.7887    255.15        71          90        4.63   \n",
       "1  Great Falls  47.5002 -111.3008    255.37        78          90        5.14   \n",
       "2       Narsaq  60.9167  -46.0500    274.15        25           1       10.80   \n",
       "3       Atuona  -9.8000 -139.0333    299.91        77          57       10.02   \n",
       "4       Castro -24.7911  -50.0119    297.74        50           0        3.33   \n",
       "\n",
       "  Country        Date  \n",
       "0      US  1612631204  \n",
       "1      US  1612631124  \n",
       "2      GL  1612631063  \n",
       "3      PF  1612631209  \n",
       "4      BR  1612631210  "
      ]
     },
     "execution_count": 22,
     "metadata": {},
     "output_type": "execute_result"
    }
   ],
   "source": [
    "consolidated_weather_df.head()"
   ]
  },
  {
   "cell_type": "markdown",
   "metadata": {},
   "source": [
    "## Inspect the data and remove the cities where the humidity > 100%.\n",
    "----\n",
    "Skip this step if there are no cities that have humidity > 100%. "
   ]
  },
  {
   "cell_type": "code",
   "execution_count": 25,
   "metadata": {
    "scrolled": true
   },
   "outputs": [
    {
     "data": {
      "text/html": [
       "<div>\n",
       "<style scoped>\n",
       "    .dataframe tbody tr th:only-of-type {\n",
       "        vertical-align: middle;\n",
       "    }\n",
       "\n",
       "    .dataframe tbody tr th {\n",
       "        vertical-align: top;\n",
       "    }\n",
       "\n",
       "    .dataframe thead th {\n",
       "        text-align: right;\n",
       "    }\n",
       "</style>\n",
       "<table border=\"1\" class=\"dataframe\">\n",
       "  <thead>\n",
       "    <tr style=\"text-align: right;\">\n",
       "      <th></th>\n",
       "      <th>Lat</th>\n",
       "      <th>lng</th>\n",
       "      <th>Max Temp</th>\n",
       "      <th>Humidity</th>\n",
       "      <th>Cloudiness</th>\n",
       "      <th>Wind Speed</th>\n",
       "      <th>Date</th>\n",
       "    </tr>\n",
       "  </thead>\n",
       "  <tbody>\n",
       "    <tr>\n",
       "      <th>count</th>\n",
       "      <td>582.000000</td>\n",
       "      <td>582.000000</td>\n",
       "      <td>582.000000</td>\n",
       "      <td>582.000000</td>\n",
       "      <td>582.000000</td>\n",
       "      <td>582.000000</td>\n",
       "      <td>5.820000e+02</td>\n",
       "    </tr>\n",
       "    <tr>\n",
       "      <th>mean</th>\n",
       "      <td>19.363943</td>\n",
       "      <td>20.843520</td>\n",
       "      <td>283.594570</td>\n",
       "      <td>70.756014</td>\n",
       "      <td>53.932990</td>\n",
       "      <td>3.916289</td>\n",
       "      <td>1.612632e+09</td>\n",
       "    </tr>\n",
       "    <tr>\n",
       "      <th>std</th>\n",
       "      <td>33.724826</td>\n",
       "      <td>91.144525</td>\n",
       "      <td>18.774671</td>\n",
       "      <td>21.427272</td>\n",
       "      <td>38.726998</td>\n",
       "      <td>2.757250</td>\n",
       "      <td>2.812793e+02</td>\n",
       "    </tr>\n",
       "    <tr>\n",
       "      <th>min</th>\n",
       "      <td>-54.800000</td>\n",
       "      <td>-179.166700</td>\n",
       "      <td>230.930000</td>\n",
       "      <td>7.000000</td>\n",
       "      <td>0.000000</td>\n",
       "      <td>0.190000</td>\n",
       "      <td>1.612631e+09</td>\n",
       "    </tr>\n",
       "    <tr>\n",
       "      <th>25%</th>\n",
       "      <td>-9.061225</td>\n",
       "      <td>-61.636450</td>\n",
       "      <td>271.150000</td>\n",
       "      <td>60.000000</td>\n",
       "      <td>16.000000</td>\n",
       "      <td>1.795000</td>\n",
       "      <td>1.612631e+09</td>\n",
       "    </tr>\n",
       "    <tr>\n",
       "      <th>50%</th>\n",
       "      <td>22.622500</td>\n",
       "      <td>24.696100</td>\n",
       "      <td>289.260000</td>\n",
       "      <td>77.000000</td>\n",
       "      <td>66.000000</td>\n",
       "      <td>3.125000</td>\n",
       "      <td>1.612632e+09</td>\n",
       "    </tr>\n",
       "    <tr>\n",
       "      <th>75%</th>\n",
       "      <td>48.606875</td>\n",
       "      <td>105.598050</td>\n",
       "      <td>298.617500</td>\n",
       "      <td>87.000000</td>\n",
       "      <td>90.000000</td>\n",
       "      <td>5.540000</td>\n",
       "      <td>1.612632e+09</td>\n",
       "    </tr>\n",
       "    <tr>\n",
       "      <th>max</th>\n",
       "      <td>78.218600</td>\n",
       "      <td>178.416700</td>\n",
       "      <td>311.250000</td>\n",
       "      <td>100.000000</td>\n",
       "      <td>100.000000</td>\n",
       "      <td>19.030000</td>\n",
       "      <td>1.612632e+09</td>\n",
       "    </tr>\n",
       "  </tbody>\n",
       "</table>\n",
       "</div>"
      ],
      "text/plain": [
       "              Lat         lng    Max Temp    Humidity  Cloudiness  Wind Speed  \\\n",
       "count  582.000000  582.000000  582.000000  582.000000  582.000000  582.000000   \n",
       "mean    19.363943   20.843520  283.594570   70.756014   53.932990    3.916289   \n",
       "std     33.724826   91.144525   18.774671   21.427272   38.726998    2.757250   \n",
       "min    -54.800000 -179.166700  230.930000    7.000000    0.000000    0.190000   \n",
       "25%     -9.061225  -61.636450  271.150000   60.000000   16.000000    1.795000   \n",
       "50%     22.622500   24.696100  289.260000   77.000000   66.000000    3.125000   \n",
       "75%     48.606875  105.598050  298.617500   87.000000   90.000000    5.540000   \n",
       "max     78.218600  178.416700  311.250000  100.000000  100.000000   19.030000   \n",
       "\n",
       "               Date  \n",
       "count  5.820000e+02  \n",
       "mean   1.612632e+09  \n",
       "std    2.812793e+02  \n",
       "min    1.612631e+09  \n",
       "25%    1.612631e+09  \n",
       "50%    1.612632e+09  \n",
       "75%    1.612632e+09  \n",
       "max    1.612632e+09  "
      ]
     },
     "execution_count": 25,
     "metadata": {},
     "output_type": "execute_result"
    }
   ],
   "source": [
    "consolidated_weather_df.describe()"
   ]
  },
  {
   "cell_type": "code",
   "execution_count": 27,
   "metadata": {},
   "outputs": [],
   "source": [
    "#  Based on our Describe function we sese no erroneous entries claiming greater than 100% humidity\n",
    "#  (that's not possible)."
   ]
  },
  {
   "cell_type": "code",
   "execution_count": 28,
   "metadata": {},
   "outputs": [],
   "source": [
    "#  Get the indices of cities that have humidity over 100%.\n",
    "#!  TA / Tutor:  Need to ask how we would do this?"
   ]
  },
  {
   "cell_type": "code",
   "execution_count": 29,
   "metadata": {},
   "outputs": [],
   "source": [
    "# Make a new DataFrame equal to the city data to drop all humidity outliers by index.\n",
    "# Passing \"inplace=False\" will make a copy of the city_data DataFrame, which we call \"clean_city_data\".\n"
   ]
  },
  {
   "cell_type": "markdown",
   "metadata": {},
   "source": [
    "## Plotting the Data\n",
    "* Use proper labeling of the plots using plot titles (including date of analysis) and axes labels.\n",
    "* Save the plotted figures as .pngs."
   ]
  },
  {
   "cell_type": "markdown",
   "metadata": {},
   "source": [
    "## Latitude vs. Temperature Plot"
   ]
  },
  {
   "cell_type": "code",
   "execution_count": 31,
   "metadata": {
    "scrolled": true
   },
   "outputs": [
    {
     "data": {
      "image/png": "[encoded data removed]",
      "text/plain": [
       "<Figure size 432x288 with 1 Axes>"
      ]
     },
     "metadata": {
      "needs_background": "light"
     },
     "output_type": "display_data"
    }
   ],
   "source": [
    "# Creating scatter plot using the matplotlib method\n",
    "\n",
    "plt.scatter(consolidated_weather_df[\"Lat\"],consolidated_weather_df[\"Max Temp\"], marker=\"o\", s=15)\n",
    "plt.title(\"City Global Latitude vs Max Temperature 02/06/2021\")\n",
    "plt.ylabel(\"Max Temp\")\n",
    "plt.xlabel(\"Global Latitude\")\n",
    "plt.grid(True)\n",
    "\n",
    "plt.savefig(\"Export_data/lat_vs_temp_scatter.png\")\n",
    "plt.show()\n"
   ]
  },
  {
   "cell_type": "markdown",
   "metadata": {},
   "source": [
    "## Latitude vs. Humidity Plot"
   ]
  },
  {
   "cell_type": "code",
   "execution_count": 32,
   "metadata": {},
   "outputs": [
    {
     "data": {
      "image/png": "[encoded data removed]",
      "text/plain": [
       "<Figure size 432x288 with 1 Axes>"
      ]
     },
     "metadata": {
      "needs_background": "light"
     },
     "output_type": "display_data"
    }
   ],
   "source": [
    "plt.scatter(consolidated_weather_df[\"Lat\"],consolidated_weather_df[\"Humidity\"], marker=\"o\", s=15)\n",
    "plt.title(\"City Global Latitude vs Humidity 02/06/2021\")\n",
    "plt.ylabel(\"Humidity\")\n",
    "plt.xlabel(\"Global Latitude\")\n",
    "plt.grid(True)\n",
    "\n",
    "plt.savefig(\"Export_data/lat_vs_humidity_scatter.png\")\n",
    "plt.show()"
   ]
  },
  {
   "cell_type": "markdown",
   "metadata": {},
   "source": [
    "## Latitude vs. Cloudiness Plot"
   ]
  },
  {
   "cell_type": "code",
   "execution_count": 33,
   "metadata": {},
   "outputs": [
    {
     "data": {
      "image/png": "[encoded data removed]",
      "text/plain": [
       "<Figure size 432x288 with 1 Axes>"
      ]
     },
     "metadata": {
      "needs_background": "light"
     },
     "output_type": "display_data"
    }
   ],
   "source": [
    "plt.scatter(consolidated_weather_df[\"Lat\"],consolidated_weather_df[\"Cloudiness\"], marker=\"o\", s=15)\n",
    "plt.title(\"City Global Latitude vs Cloudiness 02/06/2021\")\n",
    "plt.ylabel(\"Cloudiness\")\n",
    "plt.xlabel(\"Global Latitude\")\n",
    "plt.grid(True)\n",
    "\n",
    "plt.savefig(\"Export_data/lat_vs_cloud_scatter.png\")\n",
    "plt.show()"
   ]
  },
  {
   "cell_type": "markdown",
   "metadata": {},
   "source": [
    "## Latitude vs. Wind Speed Plot"
   ]
  },
  {
   "cell_type": "code",
   "execution_count": 34,
   "metadata": {},
   "outputs": [
    {
     "data": {
      "image/png": "[encoded data removed]",
      "text/plain": [
       "<Figure size 432x288 with 1 Axes>"
      ]
     },
     "metadata": {
      "needs_background": "light"
     },
     "output_type": "display_data"
    }
   ],
   "source": [
    "plt.scatter(consolidated_weather_df[\"Lat\"],consolidated_weather_df[\"Wind Speed\"], marker=\"o\", s=15)\n",
    "plt.title(\"City Global Latitude vs Wind Speed 02/06/2021\")\n",
    "plt.ylabel(\"Wind Speed\")\n",
    "plt.xlabel(\"Global Latitude\")\n",
    "plt.grid(True)\n",
    "\n",
    "plt.savefig(\"Export_data/lat_vs_wind_scatter.png\")\n",
    "plt.show()"
   ]
  },
  {
   "cell_type": "markdown",
   "metadata": {},
   "source": [
    "## Linear Regression"
   ]
  },
  {
   "cell_type": "code",
   "execution_count": 24,
   "metadata": {},
   "outputs": [],
   "source": []
  },
  {
   "cell_type": "markdown",
   "metadata": {},
   "source": [
    "####  Northern Hemisphere - Max Temp vs. Latitude Linear Regression"
   ]
  },
  {
   "cell_type": "code",
   "execution_count": 25,
   "metadata": {},
   "outputs": [
    {
     "name": "stdout",
     "output_type": "stream",
     "text": [
      "The r-value is: 0.46937863826630627\n"
     ]
    },
    {
     "data": {
      "image/png": "[encoded data removed]",
      "text/plain": [
       "<Figure size 432x288 with 1 Axes>"
      ]
     },
     "metadata": {
      "needs_background": "light"
     },
     "output_type": "display_data"
    }
   ],
   "source": []
  },
  {
   "cell_type": "markdown",
   "metadata": {},
   "source": [
    "####  Southern Hemisphere - Max Temp vs. Latitude Linear Regression"
   ]
  },
  {
   "cell_type": "code",
   "execution_count": 26,
   "metadata": {},
   "outputs": [
    {
     "name": "stdout",
     "output_type": "stream",
     "text": [
      "The r-value is: 0.6082708688906918\n"
     ]
    },
    {
     "data": {
      "image/png": "[encoded data removed]",
      "text/plain": [
       "<Figure size 432x288 with 1 Axes>"
      ]
     },
     "metadata": {
      "needs_background": "light"
     },
     "output_type": "display_data"
    }
   ],
   "source": []
  },
  {
   "cell_type": "markdown",
   "metadata": {},
   "source": [
    "####  Northern Hemisphere - Humidity (%) vs. Latitude Linear Regression"
   ]
  },
  {
   "cell_type": "code",
   "execution_count": 27,
   "metadata": {},
   "outputs": [
    {
     "name": "stdout",
     "output_type": "stream",
     "text": [
      "The r-value is: 0.000543987878808455\n"
     ]
    },
    {
     "data": {
      "image/png": "[encoded data removed]",
      "text/plain": [
       "<Figure size 432x288 with 1 Axes>"
      ]
     },
     "metadata": {
      "needs_background": "light"
     },
     "output_type": "display_data"
    }
   ],
   "source": []
  },
  {
   "cell_type": "markdown",
   "metadata": {},
   "source": [
    "####  Southern Hemisphere - Humidity (%) vs. Latitude Linear Regression"
   ]
  },
  {
   "cell_type": "code",
   "execution_count": 28,
   "metadata": {},
   "outputs": [
    {
     "name": "stdout",
     "output_type": "stream",
     "text": [
      "The r-value is: 0.014985174297345524\n"
     ]
    },
    {
     "data": {
      "image/png": "[encoded data removed]",
      "text/plain": [
       "<Figure size 432x288 with 1 Axes>"
      ]
     },
     "metadata": {
      "needs_background": "light"
     },
     "output_type": "display_data"
    }
   ],
   "source": []
  },
  {
   "cell_type": "markdown",
   "metadata": {},
   "source": [
    "####  Northern Hemisphere - Cloudiness (%) vs. Latitude Linear Regression"
   ]
  },
  {
   "cell_type": "code",
   "execution_count": 29,
   "metadata": {},
   "outputs": [
    {
     "name": "stdout",
     "output_type": "stream",
     "text": [
      "The r-value is: 0.0020898727664228514\n"
     ]
    },
    {
     "data": {
      "image/png": "[encoded data removed]",
      "text/plain": [
       "<Figure size 432x288 with 1 Axes>"
      ]
     },
     "metadata": {
      "needs_background": "light"
     },
     "output_type": "display_data"
    }
   ],
   "source": []
  },
  {
   "cell_type": "markdown",
   "metadata": {},
   "source": [
    "####  Southern Hemisphere - Cloudiness (%) vs. Latitude Linear Regression"
   ]
  },
  {
   "cell_type": "code",
   "execution_count": 30,
   "metadata": {},
   "outputs": [
    {
     "name": "stdout",
     "output_type": "stream",
     "text": [
      "The r-value is: 0.0035263772085582894\n"
     ]
    },
    {
     "data": {
      "image/png": "[encoded data removed]",
      "text/plain": [
       "<Figure size 432x288 with 1 Axes>"
      ]
     },
     "metadata": {
      "needs_background": "light"
     },
     "output_type": "display_data"
    }
   ],
   "source": []
  },
  {
   "cell_type": "markdown",
   "metadata": {},
   "source": [
    "####  Northern Hemisphere - Wind Speed (mph) vs. Latitude Linear Regression"
   ]
  },
  {
   "cell_type": "code",
   "execution_count": 31,
   "metadata": {},
   "outputs": [
    {
     "name": "stdout",
     "output_type": "stream",
     "text": [
      "The r-value is: 0.04019723576144484\n"
     ]
    },
    {
     "data": {
      "image/png": "[encoded data removed]",
      "text/plain": [
       "<Figure size 432x288 with 1 Axes>"
      ]
     },
     "metadata": {
      "needs_background": "light"
     },
     "output_type": "display_data"
    }
   ],
   "source": []
  },
  {
   "cell_type": "markdown",
   "metadata": {},
   "source": [
    "####  Southern Hemisphere - Wind Speed (mph) vs. Latitude Linear Regression"
   ]
  },
  {
   "cell_type": "code",
   "execution_count": 32,
   "metadata": {},
   "outputs": [
    {
     "name": "stdout",
     "output_type": "stream",
     "text": [
      "The r-value is: 0.017128274759839232\n"
     ]
    },
    {
     "data": {
      "image/png": "[encoded data removed]",
      "text/plain": [
       "<Figure size 432x288 with 1 Axes>"
      ]
     },
     "metadata": {
      "needs_background": "light"
     },
     "output_type": "display_data"
    }
   ],
   "source": []
  },
  {
   "cell_type": "code",
   "execution_count": null,
   "metadata": {},
   "outputs": [],
   "source": []
  }
 ],
 "metadata": {
  "anaconda-cloud": {},
  "kernel_info": {
   "name": "python3"
  },
  "kernelspec": {
   "display_name": "PythonData",
   "language": "python",
   "name": "pythondata"
  },
  "language_info": {
   "codemirror_mode": {
    "name": "ipython",
    "version": 3
   },
   "file_extension": ".py",
   "mimetype": "text/x-python",
   "name": "python",
   "nbconvert_exporter": "python",
   "pygments_lexer": "ipython3",
   "version": "3.6.12"
  },
  "latex_envs": {
   "LaTeX_envs_menu_present": true,
   "autoclose": false,
   "autocomplete": true,
   "bibliofile": "biblio.bib",
   "cite_by": "apalike",
   "current_citInitial": 1,
   "eqLabelWithNumbers": true,
   "eqNumInitial": 1,
   "hotkeys": {
    "equation": "Ctrl-E",
    "itemize": "Ctrl-I"
   },
   "labels_anchors": false,
   "latex_user_defs": false,
   "report_style_numbering": false,
   "user_envs_cfg": false
  },
  "nteract": {
   "version": "0.12.3"
  }
 },
 "nbformat": 4,
 "nbformat_minor": 2
}
